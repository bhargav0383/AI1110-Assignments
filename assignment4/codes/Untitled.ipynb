{
 "cells": [
  {
   "cell_type": "code",
   "execution_count": 14,
   "id": "d05849ba",
   "metadata": {},
   "outputs": [
    {
     "name": "stdout",
     "output_type": "stream",
     "text": [
      "Probability that the ball drawn is white is  0.2222222222222222\n",
      "Probability that the ball drawn is blue is  0.3333333333333333\n",
      "Probability that the ball drawn is red is  0.4444444444444445\n",
      "Experimental Probability that the ball drawn   0.25\n",
      "Experimental Probability that the ball drawn   0.25\n",
      "Experimental Probability that the ball drawn   0.5\n"
     ]
    }
   ],
   "source": [
    "import numpy as np\n",
    "import pandas as pd\n",
    "from numpy import random as RN \n",
    "\n",
    "# Importing data from excel\n",
    "\n",
    "read = pd.read_excel('../tables/raw_data.xlsx')\n",
    "raw_data = np.array(read)\n",
    "\n",
    "#Total number of balls\n",
    "N = 9\n",
    "color = np.array(raw_data[0])\n",
    "\n",
    "pr_1 = color[0]/N\n",
    "pr_2 = color[1]/N\n",
    "pr_3 = 1- pr_1-pr_2\n",
    "print(\"Probability that the ball drawn is white is \",pr_1)\n",
    "print(\"Probability that the ball drawn is blue is \",pr_2)\n",
    "print(\"Probability that the ball drawn is red is \",pr_3)\n",
    "\n",
    "\n",
    "#experinmental probability\n",
    "W=4\n",
    "\n",
    "x = RN.randint(0, 4, size=W)\n",
    "\n",
    "x_1 = np.count_nonzero(x==0)\n",
    "x_2 = np.count_nonzero(x==1)\n",
    "x_3 = np.count_nonzero(x==2)\n",
    "print(\"Experimental Probability that the ball drawn  \",x_1/W)\n",
    "print(\"Experimental Probability that the ball drawn  \",x_2/W)\n",
    "print(\"Experimental Probability that the ball drawn  \",x_3/W)"
   ]
  },
  {
   "cell_type": "code",
   "execution_count": null,
   "id": "85cd17ab",
   "metadata": {},
   "outputs": [],
   "source": []
  }
 ],
 "metadata": {
  "kernelspec": {
   "display_name": "Python 3 (ipykernel)",
   "language": "python",
   "name": "python3"
  },
  "language_info": {
   "codemirror_mode": {
    "name": "ipython",
    "version": 3
   },
   "file_extension": ".py",
   "mimetype": "text/x-python",
   "name": "python",
   "nbconvert_exporter": "python",
   "pygments_lexer": "ipython3",
   "version": "3.10.4"
  }
 },
 "nbformat": 4,
 "nbformat_minor": 5
}
