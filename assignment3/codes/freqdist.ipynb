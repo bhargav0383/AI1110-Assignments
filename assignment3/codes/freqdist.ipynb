{
 "cells": [
  {
   "cell_type": "code",
   "execution_count": 2,
   "id": "9c74e5ff",
   "metadata": {},
   "outputs": [
    {
     "name": "stdout",
     "output_type": "stream",
     "text": [
      "[ 2  6 14 11  4  3]\n"
     ]
    }
   ],
   "source": [
    "import numpy as np\n",
    "import pandas as pd\n",
    "\n",
    "#reading from excel\n",
    "read = pd.read_excel(r'C:/Users/Bhargava ram/Desktop/STUDY/sem2/AI1110/assignment3/tables/raw_data.xlsx')\n",
    "raw_data = np.array(read)\n",
    "\n",
    "#automatically generating bins and class intervals\n",
    "bin = [2+0.5*i for i in range(7)] \n",
    "class_intervals = [\"{}-{}\".format(bin[i],bin[i+1]) for i in range(6)]\n",
    "\n",
    "#using inbuilt function for frequencies / class indices\n",
    "hist = np.histogram(raw_data,bins=bin)\n",
    "print(hist[0])\n",
    "\n",
    "#writing to excel file\n",
    "write = pd.DataFrame({\"Battery Life\":class_intervals,\"Frequency\":hist[0]})\n",
    "write.to_excel('C:/Users/Bhargava ram/Desktop/STUDY/sem2/AI1110/assignment3/tables/frequency_distribution.xlsx',index=False)"
   ]
  },
  {
   "cell_type": "code",
   "execution_count": null,
   "id": "bdb256f5",
   "metadata": {},
   "outputs": [],
   "source": []
  },
  {
   "cell_type": "code",
   "execution_count": null,
   "id": "abfabf85",
   "metadata": {},
   "outputs": [],
   "source": []
  },
  {
   "cell_type": "code",
   "execution_count": null,
   "id": "fc82aaa0",
   "metadata": {},
   "outputs": [],
   "source": []
  }
 ],
 "metadata": {
  "kernelspec": {
   "display_name": "Python 3 (ipykernel)",
   "language": "python",
   "name": "python3"
  },
  "language_info": {
   "codemirror_mode": {
    "name": "ipython",
    "version": 3
   },
   "file_extension": ".py",
   "mimetype": "text/x-python",
   "name": "python",
   "nbconvert_exporter": "python",
   "pygments_lexer": "ipython3",
   "version": "3.10.4"
  }
 },
 "nbformat": 4,
 "nbformat_minor": 5
}
