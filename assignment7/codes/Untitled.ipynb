{
 "cells": [
  {
   "cell_type": "code",
   "execution_count": 19,
   "id": "84af1ba2",
   "metadata": {},
   "outputs": [
    {
     "name": "stdout",
     "output_type": "stream",
     "text": [
      "p = 0.5\n"
     ]
    }
   ],
   "source": [
    "import numpy as np\n",
    "\n",
    "# Defining probabilities of various events\n",
    "A = 0.5\n",
    "AunionB = 0.6\n",
    "B \n",
    "AB = x\n",
    "\n",
    "#condition\n",
    "AunionB = A + B - AB\n",
    "\n",
    "#for mutually exclusive events A,B\n",
    "x = 0\n",
    "print(f\"p =\",B)"
   ]
  },
  {
   "cell_type": "code",
   "execution_count": 20,
   "id": "b66c8769",
   "metadata": {},
   "outputs": [
    {
     "name": "stdout",
     "output_type": "stream",
     "text": [
      "p = 0.5\n"
     ]
    }
   ],
   "source": [
    "#for individual events A,B\n",
    "AB = A*B\n",
    "print(f\"p =\",B)"
   ]
  },
  {
   "cell_type": "code",
   "execution_count": null,
   "id": "466dd106",
   "metadata": {},
   "outputs": [],
   "source": []
  }
 ],
 "metadata": {
  "kernelspec": {
   "display_name": "Python 3 (ipykernel)",
   "language": "python",
   "name": "python3"
  },
  "language_info": {
   "codemirror_mode": {
    "name": "ipython",
    "version": 3
   },
   "file_extension": ".py",
   "mimetype": "text/x-python",
   "name": "python",
   "nbconvert_exporter": "python",
   "pygments_lexer": "ipython3",
   "version": "3.10.4"
  }
 },
 "nbformat": 4,
 "nbformat_minor": 5
}
