{
 "cells": [
  {
   "cell_type": "code",
   "execution_count": 62,
   "id": "6e679fb6",
   "metadata": {},
   "outputs": [
    {
     "name": "stdout",
     "output_type": "stream",
     "text": [
      "Practical probability is 0.0668837645249282\n"
     ]
    }
   ],
   "source": [
    "import numpy as np\n",
    "\n",
    "def G(x):\n",
    "    if(x[0] <= 6 and x[0] >=1):\n",
    "        if(x[1] <= 6 and x[1] >=1):\n",
    "            if(x[0] != x[1]):\n",
    "                return 1\n",
    "\n",
    "    return 0\n",
    "\n",
    "N = 100000\n",
    "\n",
    "arr = np.random.randint(1,7,size=(N,2))\n",
    "problist = arr.tolist()\n",
    "\n",
    "count1 = problist.count([1,3]) + problist.count([3,1])\n",
    "\n",
    "\n",
    "bitlist = map(lambda x: G(x), problist)\n",
    "bitlist = list(bitlist)\n",
    "count2 = sum(bitlist)\n",
    "\n",
    "print(\"Practical probability is\",count1/count2)"
   ]
  },
  {
   "cell_type": "code",
   "execution_count": null,
   "id": "90883972",
   "metadata": {},
   "outputs": [],
   "source": []
  },
  {
   "cell_type": "code",
   "execution_count": null,
   "id": "717bce42",
   "metadata": {},
   "outputs": [],
   "source": []
  }
 ],
 "metadata": {
  "kernelspec": {
   "display_name": "Python 3 (ipykernel)",
   "language": "python",
   "name": "python3"
  },
  "language_info": {
   "codemirror_mode": {
    "name": "ipython",
    "version": 3
   },
   "file_extension": ".py",
   "mimetype": "text/x-python",
   "name": "python",
   "nbconvert_exporter": "python",
   "pygments_lexer": "ipython3",
   "version": "3.10.4"
  }
 },
 "nbformat": 4,
 "nbformat_minor": 5
}
