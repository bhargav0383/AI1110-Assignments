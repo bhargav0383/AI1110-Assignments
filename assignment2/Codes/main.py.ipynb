{
 "cells": [
  {
   "cell_type": "code",
   "execution_count": 73,
   "id": "97f07960",
   "metadata": {},
   "outputs": [
    {
     "name": "stdout",
     "output_type": "stream",
     "text": [
      "Marginal cost function is \n",
      " \n"
     ]
    },
    {
     "data": {
      "text/latex": [
       "$\\displaystyle x^{2} + 6 x - 16$"
      ],
      "text/plain": [
       "x**2 + 6*x - 16"
      ]
     },
     "execution_count": 73,
     "metadata": {},
     "output_type": "execute_result"
    }
   ],
   "source": [
    "import sympy as smp\n",
    "# create a \"symbol\" called x\n",
    "x = smp.symbols('x')\n",
    "\n",
    "# Given the total cost function C(x) is\n",
    "C = x**3/3 + 3*x**2 - 16*x + 2\n",
    "#Marginal cost function is the derivative_C\n",
    "derivative_C = C.diff(x)\n",
    "print(\"Marginal cost function is \\n \")\n",
    "derivative_C\n"
   ]
  },
  {
   "cell_type": "code",
   "execution_count": 77,
   "id": "a6bff503",
   "metadata": {},
   "outputs": [
    {
     "name": "stdout",
     "output_type": "stream",
     "text": [
      "Average cost function is \n"
     ]
    },
    {
     "data": {
      "text/latex": [
       "$\\displaystyle \\frac{x^{2}}{3} + 3 x - 16 + \\frac{2}{x}$"
      ],
      "text/plain": [
       "x**2/3 + 3*x - 16 + 2/x"
      ]
     },
     "execution_count": 77,
     "metadata": {},
     "output_type": "execute_result"
    }
   ],
   "source": [
    "#Average cost function is\n",
    "MC = (x**3/3 + 3*x**2 - 16*x + 2)/x\n",
    "A = smp.simplify(MC)\n",
    "print(\"Average cost function is \")\n",
    "A "
   ]
  },
  {
   "cell_type": "code",
   "execution_count": null,
   "id": "e586fdb0",
   "metadata": {},
   "outputs": [],
   "source": []
  }
 ],
 "metadata": {
  "kernelspec": {
   "display_name": "Python 3 (ipykernel)",
   "language": "python",
   "name": "python3"
  },
  "language_info": {
   "codemirror_mode": {
    "name": "ipython",
    "version": 3
   },
   "file_extension": ".py",
   "mimetype": "text/x-python",
   "name": "python",
   "nbconvert_exporter": "python",
   "pygments_lexer": "ipython3",
   "version": "3.10.4"
  }
 },
 "nbformat": 4,
 "nbformat_minor": 5
}
